{
 "cells": [
  {
   "cell_type": "markdown",
   "metadata": {},
   "source": [
    "# Notebook for Pre-processing Text\n",
    "The chosen article is : <br>\n",
    "[Smart-Lock Startup Latch Rides SPAC Frenzy To $1.5 Billion Valuation](https://www.forbes.com/sites/noahkirsch/2021/06/07/smart-lock-startup-latch-rides-spac-frenzy-to-15-billion-valuation/?sh=2dcb019f40a2)"
   ]
  },
  {
   "cell_type": "code",
   "execution_count": null,
   "metadata": {},
   "outputs": [],
   "source": [
    "# pip install nltk"
   ]
  },
  {
   "cell_type": "markdown",
   "metadata": {},
   "source": [
    "# Import Libraries"
   ]
  },
  {
   "cell_type": "code",
   "execution_count": 1,
   "metadata": {},
   "outputs": [],
   "source": [
    "import nltk\n",
    "# nltk.download()\n",
    "import string # to remove punctuation\n",
    "from nltk import word_tokenize # to tokenize\n",
    "from nltk.corpus import stopwords # to remove stopwords\n",
    "\n",
    "from nltk.stem.porter import PorterStemmer # for stemming\n",
    "from nltk.stem import LancasterStemmer # for stemming\n",
    "from nltk.stem import WordNetLemmatizer # for lemmatisation"
   ]
  },
  {
   "cell_type": "code",
   "execution_count": 6,
   "metadata": {
    "scrolled": false
   },
   "outputs": [
    {
     "data": {
      "text/plain": [
       "'Smart-lock maker Latch began trading on Monday.,Smart-lock startup Latch began trading Monday through a SPAC listing that raised $453 million and values the company at over $1.5 billion. The shares, issued through a special purpose acquisition vehicle run by Tishman Speyer Properties, rose 4% on the first day of trading.\\xa0,“Using the Tishman Speyer portfolio as an incubator for new ideas and new products...was really just too good to pass up,” says Latch’s cofounder and CEO, Luke Schoenfelder, who made the Forbes Under 30 ,list, in 2018.,Latch, which had revenue of just $18 million last year, was founded in 2013 and is best known for its smart-locks, which can be unlocked with a smartphone. Schoenfelder, 32, and his cofounders stumbled on the concept after trying to solve a simpler problem: “How do you run out of orange juice in the morning and have a fresh carton delivered directly into your refrigerator at the end of the day?” Latch’s CFO Garth Mitchell told ,Forbes ,earlier this year.\\xa0,The team realized that property access was the first hurdle to executing that concept, and soon homed in on the smart-lock market. They targeted residential properties at the outset, since the potential to scale was so much higher than commercial businesses.,Latch was valued at more than $400 million after its Series B round raised $126 million in 2019, when one-in-ten new multi-family projects across the U.S. utilized its technology. The company says it will use the new funding to expand into Europe and grow new business segments in the commercial space. A year ago, when offices shuttered and renters fled from major cities, things looked far more grim. “We had to make some tough choices in the spring to bring our burn down,” Mitchell says.,Now rental demand ,is rebounding, in many urban areas and commercial landlords are eyeing the return of workers to offices, while new safety protocols have made contactless entry systems more appealing. Latch launched Visitor Express, a contactless system for offices, in early 2021. Overall it says its products have been purchased or reserved in over 300,000 units across the country, mainly residential. Revenue has risen from under $15 million in 2019 to $18 million last year, according to public filings, but losses have also swelled, from $50 million to $66 million.\\xa0,The company followed many of its peers to market through a SPAC listing, which allows firms to skirt the scrutiny of a traditional initial public offering, including wading through some regulatory requirements and conducting roadshows that allow potential investors to question executives about opportunities and risks.\\xa0,SPACs provide a faster way to market by taking a publicly traded shell company (the SPAC) and merging it with a target business like Latch. Investors in the shell company generally take large fees, creating a ,no-lose opportunity, for many of their backers and a much riskier scenario for less sophisticated retail investors who are drawn to the hype.,Latch and its peers are now bellwethers for those risks, says Howard Schilit, author of ,Financial Shenanigans,. Porch and Opendoor have already gone public through SPACs, while WeWork, Better, Sonder and Offerpad are planning listings to do so. And it’s not limited to real estate. PWC cited the “continued SPAC attack” as the driver behind 389 IPOs completed in the ,first quarter, of the year that raised a total of $125 billion.,“There always have been successful SPACs, despite the fact that on average SPACs have never been a good investment for public shareholders,” says Michael Klausner, the Nancy and Charles Munger Professor of Business at Stanford Law School. He adds that “the SPAC bubble seems to be deflating. One never knows when a bubble will burst or fully deflate, but I think a reasonable inference from the market is that the deflation process is happening.”,Schoenfelder, for his part, insists that Latch would have gone public with or without a SPAC bubble, noting the multiple merger offers he fielded.\\xa0,“If you look at the institutional investors that participated in our transaction...Fidelity, BlackRock, Wellington,” he says, “I think there would have been appetite in lots of different permutations.”'"
      ]
     },
     "execution_count": 6,
     "metadata": {},
     "output_type": "execute_result"
    }
   ],
   "source": [
    "# load chosen txt file for pre-processing\n",
    "f = open(\"output/Smart-Lock Startup Latch Rides SPAC Frenzy To $1.5 Billion Valuation.txt\", encoding=\"utf8\")\n",
    "text = f.read()\n",
    "\n",
    "# show text of txt file\n",
    "text"
   ]
  },
  {
   "cell_type": "markdown",
   "metadata": {},
   "source": [
    "# Remove All Company Names"
   ]
  },
  {
   "cell_type": "code",
   "execution_count": 7,
   "metadata": {
    "scrolled": true
   },
   "outputs": [
    {
     "data": {
      "text/plain": [
       "'Smart-lock maker  began trading on Monday.,Smart-lock startup  began trading Monday through a SPAC listing that raised $453 million and values the company at over $1.5 billion. The shares, issued through a special purpose acquisition vehicle run by , rose 4% on the first day of trading. ,“Using the Tishman Speyer portfolio as an incubator for new ideas and new products...was really just too good to pass up,” says ’s cofounder and CEO, Luke Schoenfelder, who made the  Under 30 ,list, in 2018.,, which had revenue of just $18 million last year, was founded in 2013 and is best known for its smart-locks, which can be unlocked with a smartphone. Schoenfelder, 32, and his cofounders stumbled on the concept after trying to solve a simpler problem: “How do you run out of orange juice in the morning and have a fresh carton delivered directly into your refrigerator at the end of the day?” ’s CFO Garth Mitchell told , ,earlier this year. ,The team realized that property access was the first hurdle to executing that concept, and soon homed in on the smart-lock market. They targeted residential properties at the outset, since the potential to scale was so much higher than commercial businesses., was valued at more than $400 million after its Series B round raised $126 million in 2019, when one-in-ten new multi-family projects across the U.S. utilized its technology. The company says it will use the new funding to expand into Europe and grow new business segments in the commercial space. A year ago, when offices shuttered and renters fled from major cities, things looked far more grim. “We had to make some tough choices in the spring to bring our burn down,” Mitchell says.,Now rental demand ,is rebounding, in many urban areas and commercial landlords are eyeing the return of workers to offices, while new safety protocols have made contactless entry systems more appealing.  launched Visitor Express, a contactless system for offices, in early 2021. Overall it says its products have been purchased or reserved in over 300,000 units across the country, mainly residential. Revenue has risen from under $15 million in 2019 to $18 million last year, according to public filings, but losses have also swelled, from $50 million to $66 million. ,The company followed many of its peers to market through a SPAC listing, which allows firms to skirt the scrutiny of a traditional initial public offering, including wading through some regulatory requirements and conducting roadshows that allow potential investors to question executives about opportunities and risks. ,SPACs provide a faster way to market by taking a publicly traded shell company (the SPAC) and merging it with a target business like . Investors in the shell company generally take large fees, creating a ,no-lose opportunity, for many of their backers and a much riskier scenario for less sophisticated retail investors who are drawn to the hype., and its peers are now bellwethers for those risks, says Howard Schilit, author of ,Financial Shenanigans,.  and  have already gone public through SPACs, while , ,  and  are planning listings to do so. And it’s not limited to real estate. PWC cited the “continued SPAC attack” as the driver behind 389 IPOs completed in the ,first quarter, of the year that raised a total of $125 billion.,“There always have been successful SPACs, despite the fact that on average SPACs have never been a good investment for public shareholders,” says Michael Klausner, the Nancy and Charles Munger Professor of Business at Stanford Law School. He adds that “the SPAC bubble seems to be deflating. One never knows when a bubble will burst or fully deflate, but I think a reasonable inference from the market is that the deflation process is happening.”,Schoenfelder, for his part, insists that  would have gone public with or without a SPAC bubble, noting the multiple merger offers he fielded. ,“If you look at the institutional investors that participated in our transaction..., , ,” he says, “I think there would have been appetite in lots of different permutations.”'"
      ]
     },
     "execution_count": 7,
     "metadata": {},
     "output_type": "execute_result"
    }
   ],
   "source": [
    "# remove company names\n",
    "text = text.replace(\"Latch\", \"\")\n",
    "text = text.replace(\"Tishman Speyer Properties\", \"\")\n",
    "text = text.replace(\"Forbes\", \"\")\n",
    "text = text.replace(\"Latch’s\", \"\")\n",
    "text = text.replace(\"Porch\", \"\")\n",
    "text = text.replace(\"Opendoor\", \"\")\n",
    "text = text.replace(\"WeWork\", \"\")\n",
    "text = text.replace(\"Better\", \"\")\n",
    "text = text.replace(\"Sonder\", \"\")\n",
    "text = text.replace(\"Offerpad\", \"\")\n",
    "text = text.replace(\"Fidelity\", \"\")\n",
    "text = text.replace(\"BlackRock\", \"\")\n",
    "text = text.replace(\"Wellington\", \"\")\n",
    "\n",
    "# remove unicode codepoint string\n",
    "text = text.replace(\"\\xa0\", \" \")\n",
    "\n",
    "# check output\n",
    "text"
   ]
  },
  {
   "cell_type": "markdown",
   "metadata": {},
   "source": [
    "# Regular Expression/Normalization\n",
    "## Lowercase"
   ]
  },
  {
   "cell_type": "code",
   "execution_count": 8,
   "metadata": {
    "scrolled": true
   },
   "outputs": [
    {
     "data": {
      "text/plain": [
       "'smart-lock maker  began trading on monday.,smart-lock startup  began trading monday through a spac listing that raised $453 million and values the company at over $1.5 billion. the shares, issued through a special purpose acquisition vehicle run by , rose 4% on the first day of trading. ,“using the tishman speyer portfolio as an incubator for new ideas and new products...was really just too good to pass up,” says ’s cofounder and ceo, luke schoenfelder, who made the  under 30 ,list, in 2018.,, which had revenue of just $18 million last year, was founded in 2013 and is best known for its smart-locks, which can be unlocked with a smartphone. schoenfelder, 32, and his cofounders stumbled on the concept after trying to solve a simpler problem: “how do you run out of orange juice in the morning and have a fresh carton delivered directly into your refrigerator at the end of the day?” ’s cfo garth mitchell told , ,earlier this year. ,the team realized that property access was the first hurdle to executing that concept, and soon homed in on the smart-lock market. they targeted residential properties at the outset, since the potential to scale was so much higher than commercial businesses., was valued at more than $400 million after its series b round raised $126 million in 2019, when one-in-ten new multi-family projects across the u.s. utilized its technology. the company says it will use the new funding to expand into europe and grow new business segments in the commercial space. a year ago, when offices shuttered and renters fled from major cities, things looked far more grim. “we had to make some tough choices in the spring to bring our burn down,” mitchell says.,now rental demand ,is rebounding, in many urban areas and commercial landlords are eyeing the return of workers to offices, while new safety protocols have made contactless entry systems more appealing.  launched visitor express, a contactless system for offices, in early 2021. overall it says its products have been purchased or reserved in over 300,000 units across the country, mainly residential. revenue has risen from under $15 million in 2019 to $18 million last year, according to public filings, but losses have also swelled, from $50 million to $66 million. ,the company followed many of its peers to market through a spac listing, which allows firms to skirt the scrutiny of a traditional initial public offering, including wading through some regulatory requirements and conducting roadshows that allow potential investors to question executives about opportunities and risks. ,spacs provide a faster way to market by taking a publicly traded shell company (the spac) and merging it with a target business like . investors in the shell company generally take large fees, creating a ,no-lose opportunity, for many of their backers and a much riskier scenario for less sophisticated retail investors who are drawn to the hype., and its peers are now bellwethers for those risks, says howard schilit, author of ,financial shenanigans,.  and  have already gone public through spacs, while , ,  and  are planning listings to do so. and it’s not limited to real estate. pwc cited the “continued spac attack” as the driver behind 389 ipos completed in the ,first quarter, of the year that raised a total of $125 billion.,“there always have been successful spacs, despite the fact that on average spacs have never been a good investment for public shareholders,” says michael klausner, the nancy and charles munger professor of business at stanford law school. he adds that “the spac bubble seems to be deflating. one never knows when a bubble will burst or fully deflate, but i think a reasonable inference from the market is that the deflation process is happening.”,schoenfelder, for his part, insists that  would have gone public with or without a spac bubble, noting the multiple merger offers he fielded. ,“if you look at the institutional investors that participated in our transaction..., , ,” he says, “i think there would have been appetite in lots of different permutations.”'"
      ]
     },
     "execution_count": 8,
     "metadata": {},
     "output_type": "execute_result"
    }
   ],
   "source": [
    "text = text.lower()\n",
    "\n",
    "text"
   ]
  },
  {
   "cell_type": "markdown",
   "metadata": {},
   "source": [
    "## Removing Punctuation"
   ]
  },
  {
   "cell_type": "code",
   "execution_count": 9,
   "metadata": {},
   "outputs": [
    {
     "name": "stdout",
     "output_type": "stream",
     "text": [
      "!\"#$%&'()*+,-./:;<=>?@[\\]^_`{|}~\n"
     ]
    }
   ],
   "source": [
    "# get all punctuations\n",
    "print(string.punctuation)"
   ]
  },
  {
   "cell_type": "code",
   "execution_count": 10,
   "metadata": {
    "scrolled": true
   },
   "outputs": [
    {
     "data": {
      "text/plain": [
       "'smartlock maker  began trading on mondaysmartlock startup  began trading monday through a spac listing that raised 453 million and values the company at over 15 billion the shares issued through a special purpose acquisition vehicle run by  rose 4 on the first day of trading “using the tishman speyer portfolio as an incubator for new ideas and new productswas really just too good to pass up” says ’s cofounder and ceo luke schoenfelder who made the  under 30 list in 2018 which had revenue of just 18 million last year was founded in 2013 and is best known for its smartlocks which can be unlocked with a smartphone schoenfelder 32 and his cofounders stumbled on the concept after trying to solve a simpler problem “how do you run out of orange juice in the morning and have a fresh carton delivered directly into your refrigerator at the end of the day” ’s cfo garth mitchell told  earlier this year the team realized that property access was the first hurdle to executing that concept and soon homed in on the smartlock market they targeted residential properties at the outset since the potential to scale was so much higher than commercial businesses was valued at more than 400 million after its series b round raised 126 million in 2019 when oneinten new multifamily projects across the us utilized its technology the company says it will use the new funding to expand into europe and grow new business segments in the commercial space a year ago when offices shuttered and renters fled from major cities things looked far more grim “we had to make some tough choices in the spring to bring our burn down” mitchell saysnow rental demand is rebounding in many urban areas and commercial landlords are eyeing the return of workers to offices while new safety protocols have made contactless entry systems more appealing  launched visitor express a contactless system for offices in early 2021 overall it says its products have been purchased or reserved in over 300000 units across the country mainly residential revenue has risen from under 15 million in 2019 to 18 million last year according to public filings but losses have also swelled from 50 million to 66 million the company followed many of its peers to market through a spac listing which allows firms to skirt the scrutiny of a traditional initial public offering including wading through some regulatory requirements and conducting roadshows that allow potential investors to question executives about opportunities and risks spacs provide a faster way to market by taking a publicly traded shell company the spac and merging it with a target business like  investors in the shell company generally take large fees creating a nolose opportunity for many of their backers and a much riskier scenario for less sophisticated retail investors who are drawn to the hype and its peers are now bellwethers for those risks says howard schilit author of financial shenanigans  and  have already gone public through spacs while    and  are planning listings to do so and it’s not limited to real estate pwc cited the “continued spac attack” as the driver behind 389 ipos completed in the first quarter of the year that raised a total of 125 billion“there always have been successful spacs despite the fact that on average spacs have never been a good investment for public shareholders” says michael klausner the nancy and charles munger professor of business at stanford law school he adds that “the spac bubble seems to be deflating one never knows when a bubble will burst or fully deflate but i think a reasonable inference from the market is that the deflation process is happening”schoenfelder for his part insists that  would have gone public with or without a spac bubble noting the multiple merger offers he fielded “if you look at the institutional investors that participated in our transaction  ” he says “i think there would have been appetite in lots of different permutations”'"
      ]
     },
     "execution_count": 10,
     "metadata": {},
     "output_type": "execute_result"
    }
   ],
   "source": [
    "# add all characters that aren't in string.punctuation into a new blank string\n",
    "text_no_p = \"\".join([char for char in text if char not in string.punctuation])\n",
    "\n",
    "text_no_p"
   ]
  },
  {
   "cell_type": "code",
   "execution_count": 11,
   "metadata": {
    "scrolled": true
   },
   "outputs": [
    {
     "data": {
      "text/plain": [
       "'smartlock maker  began trading on mondaysmartlock startup  began trading monday through a spac listing that raised 453 million and values the company at over 15 billion the shares issued through a special purpose acquisition vehicle run by  rose 4 on the first day of trading  using the tishman speyer portfolio as an incubator for new ideas and new productswas really just too good to pass up  says ’s cofounder and ceo luke schoenfelder who made the  under 30 list in 2018 which had revenue of just 18 million last year was founded in 2013 and is best known for its smartlocks which can be unlocked with a smartphone schoenfelder 32 and his cofounders stumbled on the concept after trying to solve a simpler problem  how do you run out of orange juice in the morning and have a fresh carton delivered directly into your refrigerator at the end of the day  ’s cfo garth mitchell told  earlier this year the team realized that property access was the first hurdle to executing that concept and soon homed in on the smartlock market they targeted residential properties at the outset since the potential to scale was so much higher than commercial businesses was valued at more than 400 million after its series b round raised 126 million in 2019 when oneinten new multifamily projects across the us utilized its technology the company says it will use the new funding to expand into europe and grow new business segments in the commercial space a year ago when offices shuttered and renters fled from major cities things looked far more grim  we had to make some tough choices in the spring to bring our burn down  mitchell saysnow rental demand is rebounding in many urban areas and commercial landlords are eyeing the return of workers to offices while new safety protocols have made contactless entry systems more appealing  launched visitor express a contactless system for offices in early 2021 overall it says its products have been purchased or reserved in over 300000 units across the country mainly residential revenue has risen from under 15 million in 2019 to 18 million last year according to public filings but losses have also swelled from 50 million to 66 million the company followed many of its peers to market through a spac listing which allows firms to skirt the scrutiny of a traditional initial public offering including wading through some regulatory requirements and conducting roadshows that allow potential investors to question executives about opportunities and risks spacs provide a faster way to market by taking a publicly traded shell company the spac and merging it with a target business like  investors in the shell company generally take large fees creating a nolose opportunity for many of their backers and a much riskier scenario for less sophisticated retail investors who are drawn to the hype and its peers are now bellwethers for those risks says howard schilit author of financial shenanigans  and  have already gone public through spacs while    and  are planning listings to do so and it’s not limited to real estate pwc cited the  continued spac attack  as the driver behind 389 ipos completed in the first quarter of the year that raised a total of 125 billion there always have been successful spacs despite the fact that on average spacs have never been a good investment for public shareholders  says michael klausner the nancy and charles munger professor of business at stanford law school he adds that  the spac bubble seems to be deflating one never knows when a bubble will burst or fully deflate but i think a reasonable inference from the market is that the deflation process is happening schoenfelder for his part insists that  would have gone public with or without a spac bubble noting the multiple merger offers he fielded  if you look at the institutional investors that participated in our transaction    he says  i think there would have been appetite in lots of different permutations '"
      ]
     },
     "execution_count": 11,
     "metadata": {},
     "output_type": "execute_result"
    }
   ],
   "source": [
    "# manually remove quotation marks\n",
    "text_no_p = text_no_p.replace(\"“\", \" \")\n",
    "text_no_p = text_no_p.replace(\"”\", \" \")\n",
    "\n",
    "text_no_p"
   ]
  },
  {
   "cell_type": "markdown",
   "metadata": {},
   "source": [
    "## Remove Numbers"
   ]
  },
  {
   "cell_type": "code",
   "execution_count": 12,
   "metadata": {
    "scrolled": true
   },
   "outputs": [
    {
     "data": {
      "text/plain": [
       "'smartlock maker  began trading on mondaysmartlock startup  began trading monday through a spac listing that raised  million and values the company at over  billion the shares issued through a special purpose acquisition vehicle run by  rose  on the first day of trading  using the tishman speyer portfolio as an incubator for new ideas and new productswas really just too good to pass up  says ’s cofounder and ceo luke schoenfelder who made the  under  list in  which had revenue of just  million last year was founded in  and is best known for its smartlocks which can be unlocked with a smartphone schoenfelder  and his cofounders stumbled on the concept after trying to solve a simpler problem  how do you run out of orange juice in the morning and have a fresh carton delivered directly into your refrigerator at the end of the day  ’s cfo garth mitchell told  earlier this year the team realized that property access was the first hurdle to executing that concept and soon homed in on the smartlock market they targeted residential properties at the outset since the potential to scale was so much higher than commercial businesses was valued at more than  million after its series b round raised  million in  when oneinten new multifamily projects across the us utilized its technology the company says it will use the new funding to expand into europe and grow new business segments in the commercial space a year ago when offices shuttered and renters fled from major cities things looked far more grim  we had to make some tough choices in the spring to bring our burn down  mitchell saysnow rental demand is rebounding in many urban areas and commercial landlords are eyeing the return of workers to offices while new safety protocols have made contactless entry systems more appealing  launched visitor express a contactless system for offices in early  overall it says its products have been purchased or reserved in over  units across the country mainly residential revenue has risen from under  million in  to  million last year according to public filings but losses have also swelled from  million to  million the company followed many of its peers to market through a spac listing which allows firms to skirt the scrutiny of a traditional initial public offering including wading through some regulatory requirements and conducting roadshows that allow potential investors to question executives about opportunities and risks spacs provide a faster way to market by taking a publicly traded shell company the spac and merging it with a target business like  investors in the shell company generally take large fees creating a nolose opportunity for many of their backers and a much riskier scenario for less sophisticated retail investors who are drawn to the hype and its peers are now bellwethers for those risks says howard schilit author of financial shenanigans  and  have already gone public through spacs while    and  are planning listings to do so and it’s not limited to real estate pwc cited the  continued spac attack  as the driver behind  ipos completed in the first quarter of the year that raised a total of  billion there always have been successful spacs despite the fact that on average spacs have never been a good investment for public shareholders  says michael klausner the nancy and charles munger professor of business at stanford law school he adds that  the spac bubble seems to be deflating one never knows when a bubble will burst or fully deflate but i think a reasonable inference from the market is that the deflation process is happening schoenfelder for his part insists that  would have gone public with or without a spac bubble noting the multiple merger offers he fielded  if you look at the institutional investors that participated in our transaction    he says  i think there would have been appetite in lots of different permutations '"
      ]
     },
     "execution_count": 12,
     "metadata": {},
     "output_type": "execute_result"
    }
   ],
   "source": [
    "# add all characters that aren't digits into a new blank string\n",
    "text_clean = \"\".join([char for char in text_no_p if not char.isdigit()])\n",
    "\n",
    "text_clean"
   ]
  },
  {
   "cell_type": "markdown",
   "metadata": {},
   "source": [
    "# Tokenization"
   ]
  },
  {
   "cell_type": "code",
   "execution_count": 13,
   "metadata": {
    "scrolled": true
   },
   "outputs": [
    {
     "data": {
      "text/plain": [
       "['smartlock',\n",
       " 'maker',\n",
       " 'began',\n",
       " 'trading',\n",
       " 'on',\n",
       " 'mondaysmartlock',\n",
       " 'startup',\n",
       " 'began',\n",
       " 'trading',\n",
       " 'monday',\n",
       " 'through',\n",
       " 'a',\n",
       " 'spac',\n",
       " 'listing',\n",
       " 'that',\n",
       " 'raised',\n",
       " 'million',\n",
       " 'and',\n",
       " 'values',\n",
       " 'the',\n",
       " 'company',\n",
       " 'at',\n",
       " 'over',\n",
       " 'billion',\n",
       " 'the',\n",
       " 'shares',\n",
       " 'issued',\n",
       " 'through',\n",
       " 'a',\n",
       " 'special',\n",
       " 'purpose',\n",
       " 'acquisition',\n",
       " 'vehicle',\n",
       " 'run',\n",
       " 'by',\n",
       " 'rose',\n",
       " 'on',\n",
       " 'the',\n",
       " 'first',\n",
       " 'day',\n",
       " 'of',\n",
       " 'trading',\n",
       " 'using',\n",
       " 'the',\n",
       " 'tishman',\n",
       " 'speyer',\n",
       " 'portfolio',\n",
       " 'as',\n",
       " 'an',\n",
       " 'incubator',\n",
       " 'for',\n",
       " 'new',\n",
       " 'ideas',\n",
       " 'and',\n",
       " 'new',\n",
       " 'productswas',\n",
       " 'really',\n",
       " 'just',\n",
       " 'too',\n",
       " 'good',\n",
       " 'to',\n",
       " 'pass',\n",
       " 'up',\n",
       " 'says',\n",
       " '’',\n",
       " 's',\n",
       " 'cofounder',\n",
       " 'and',\n",
       " 'ceo',\n",
       " 'luke',\n",
       " 'schoenfelder',\n",
       " 'who',\n",
       " 'made',\n",
       " 'the',\n",
       " 'under',\n",
       " 'list',\n",
       " 'in',\n",
       " 'which',\n",
       " 'had',\n",
       " 'revenue',\n",
       " 'of',\n",
       " 'just',\n",
       " 'million',\n",
       " 'last',\n",
       " 'year',\n",
       " 'was',\n",
       " 'founded',\n",
       " 'in',\n",
       " 'and',\n",
       " 'is',\n",
       " 'best',\n",
       " 'known',\n",
       " 'for',\n",
       " 'its',\n",
       " 'smartlocks',\n",
       " 'which',\n",
       " 'can',\n",
       " 'be',\n",
       " 'unlocked',\n",
       " 'with',\n",
       " 'a',\n",
       " 'smartphone',\n",
       " 'schoenfelder',\n",
       " 'and',\n",
       " 'his',\n",
       " 'cofounders',\n",
       " 'stumbled',\n",
       " 'on',\n",
       " 'the',\n",
       " 'concept',\n",
       " 'after',\n",
       " 'trying',\n",
       " 'to',\n",
       " 'solve',\n",
       " 'a',\n",
       " 'simpler',\n",
       " 'problem',\n",
       " 'how',\n",
       " 'do',\n",
       " 'you',\n",
       " 'run',\n",
       " 'out',\n",
       " 'of',\n",
       " 'orange',\n",
       " 'juice',\n",
       " 'in',\n",
       " 'the',\n",
       " 'morning',\n",
       " 'and',\n",
       " 'have',\n",
       " 'a',\n",
       " 'fresh',\n",
       " 'carton',\n",
       " 'delivered',\n",
       " 'directly',\n",
       " 'into',\n",
       " 'your',\n",
       " 'refrigerator',\n",
       " 'at',\n",
       " 'the',\n",
       " 'end',\n",
       " 'of',\n",
       " 'the',\n",
       " 'day',\n",
       " '’',\n",
       " 's',\n",
       " 'cfo',\n",
       " 'garth',\n",
       " 'mitchell',\n",
       " 'told',\n",
       " 'earlier',\n",
       " 'this',\n",
       " 'year',\n",
       " 'the',\n",
       " 'team',\n",
       " 'realized',\n",
       " 'that',\n",
       " 'property',\n",
       " 'access',\n",
       " 'was',\n",
       " 'the',\n",
       " 'first',\n",
       " 'hurdle',\n",
       " 'to',\n",
       " 'executing',\n",
       " 'that',\n",
       " 'concept',\n",
       " 'and',\n",
       " 'soon',\n",
       " 'homed',\n",
       " 'in',\n",
       " 'on',\n",
       " 'the',\n",
       " 'smartlock',\n",
       " 'market',\n",
       " 'they',\n",
       " 'targeted',\n",
       " 'residential',\n",
       " 'properties',\n",
       " 'at',\n",
       " 'the',\n",
       " 'outset',\n",
       " 'since',\n",
       " 'the',\n",
       " 'potential',\n",
       " 'to',\n",
       " 'scale',\n",
       " 'was',\n",
       " 'so',\n",
       " 'much',\n",
       " 'higher',\n",
       " 'than',\n",
       " 'commercial',\n",
       " 'businesses',\n",
       " 'was',\n",
       " 'valued',\n",
       " 'at',\n",
       " 'more',\n",
       " 'than',\n",
       " 'million',\n",
       " 'after',\n",
       " 'its',\n",
       " 'series',\n",
       " 'b',\n",
       " 'round',\n",
       " 'raised',\n",
       " 'million',\n",
       " 'in',\n",
       " 'when',\n",
       " 'oneinten',\n",
       " 'new',\n",
       " 'multifamily',\n",
       " 'projects',\n",
       " 'across',\n",
       " 'the',\n",
       " 'us',\n",
       " 'utilized',\n",
       " 'its',\n",
       " 'technology',\n",
       " 'the',\n",
       " 'company',\n",
       " 'says',\n",
       " 'it',\n",
       " 'will',\n",
       " 'use',\n",
       " 'the',\n",
       " 'new',\n",
       " 'funding',\n",
       " 'to',\n",
       " 'expand',\n",
       " 'into',\n",
       " 'europe',\n",
       " 'and',\n",
       " 'grow',\n",
       " 'new',\n",
       " 'business',\n",
       " 'segments',\n",
       " 'in',\n",
       " 'the',\n",
       " 'commercial',\n",
       " 'space',\n",
       " 'a',\n",
       " 'year',\n",
       " 'ago',\n",
       " 'when',\n",
       " 'offices',\n",
       " 'shuttered',\n",
       " 'and',\n",
       " 'renters',\n",
       " 'fled',\n",
       " 'from',\n",
       " 'major',\n",
       " 'cities',\n",
       " 'things',\n",
       " 'looked',\n",
       " 'far',\n",
       " 'more',\n",
       " 'grim',\n",
       " 'we',\n",
       " 'had',\n",
       " 'to',\n",
       " 'make',\n",
       " 'some',\n",
       " 'tough',\n",
       " 'choices',\n",
       " 'in',\n",
       " 'the',\n",
       " 'spring',\n",
       " 'to',\n",
       " 'bring',\n",
       " 'our',\n",
       " 'burn',\n",
       " 'down',\n",
       " 'mitchell',\n",
       " 'saysnow',\n",
       " 'rental',\n",
       " 'demand',\n",
       " 'is',\n",
       " 'rebounding',\n",
       " 'in',\n",
       " 'many',\n",
       " 'urban',\n",
       " 'areas',\n",
       " 'and',\n",
       " 'commercial',\n",
       " 'landlords',\n",
       " 'are',\n",
       " 'eyeing',\n",
       " 'the',\n",
       " 'return',\n",
       " 'of',\n",
       " 'workers',\n",
       " 'to',\n",
       " 'offices',\n",
       " 'while',\n",
       " 'new',\n",
       " 'safety',\n",
       " 'protocols',\n",
       " 'have',\n",
       " 'made',\n",
       " 'contactless',\n",
       " 'entry',\n",
       " 'systems',\n",
       " 'more',\n",
       " 'appealing',\n",
       " 'launched',\n",
       " 'visitor',\n",
       " 'express',\n",
       " 'a',\n",
       " 'contactless',\n",
       " 'system',\n",
       " 'for',\n",
       " 'offices',\n",
       " 'in',\n",
       " 'early',\n",
       " 'overall',\n",
       " 'it',\n",
       " 'says',\n",
       " 'its',\n",
       " 'products',\n",
       " 'have',\n",
       " 'been',\n",
       " 'purchased',\n",
       " 'or',\n",
       " 'reserved',\n",
       " 'in',\n",
       " 'over',\n",
       " 'units',\n",
       " 'across',\n",
       " 'the',\n",
       " 'country',\n",
       " 'mainly',\n",
       " 'residential',\n",
       " 'revenue',\n",
       " 'has',\n",
       " 'risen',\n",
       " 'from',\n",
       " 'under',\n",
       " 'million',\n",
       " 'in',\n",
       " 'to',\n",
       " 'million',\n",
       " 'last',\n",
       " 'year',\n",
       " 'according',\n",
       " 'to',\n",
       " 'public',\n",
       " 'filings',\n",
       " 'but',\n",
       " 'losses',\n",
       " 'have',\n",
       " 'also',\n",
       " 'swelled',\n",
       " 'from',\n",
       " 'million',\n",
       " 'to',\n",
       " 'million',\n",
       " 'the',\n",
       " 'company',\n",
       " 'followed',\n",
       " 'many',\n",
       " 'of',\n",
       " 'its',\n",
       " 'peers',\n",
       " 'to',\n",
       " 'market',\n",
       " 'through',\n",
       " 'a',\n",
       " 'spac',\n",
       " 'listing',\n",
       " 'which',\n",
       " 'allows',\n",
       " 'firms',\n",
       " 'to',\n",
       " 'skirt',\n",
       " 'the',\n",
       " 'scrutiny',\n",
       " 'of',\n",
       " 'a',\n",
       " 'traditional',\n",
       " 'initial',\n",
       " 'public',\n",
       " 'offering',\n",
       " 'including',\n",
       " 'wading',\n",
       " 'through',\n",
       " 'some',\n",
       " 'regulatory',\n",
       " 'requirements',\n",
       " 'and',\n",
       " 'conducting',\n",
       " 'roadshows',\n",
       " 'that',\n",
       " 'allow',\n",
       " 'potential',\n",
       " 'investors',\n",
       " 'to',\n",
       " 'question',\n",
       " 'executives',\n",
       " 'about',\n",
       " 'opportunities',\n",
       " 'and',\n",
       " 'risks',\n",
       " 'spacs',\n",
       " 'provide',\n",
       " 'a',\n",
       " 'faster',\n",
       " 'way',\n",
       " 'to',\n",
       " 'market',\n",
       " 'by',\n",
       " 'taking',\n",
       " 'a',\n",
       " 'publicly',\n",
       " 'traded',\n",
       " 'shell',\n",
       " 'company',\n",
       " 'the',\n",
       " 'spac',\n",
       " 'and',\n",
       " 'merging',\n",
       " 'it',\n",
       " 'with',\n",
       " 'a',\n",
       " 'target',\n",
       " 'business',\n",
       " 'like',\n",
       " 'investors',\n",
       " 'in',\n",
       " 'the',\n",
       " 'shell',\n",
       " 'company',\n",
       " 'generally',\n",
       " 'take',\n",
       " 'large',\n",
       " 'fees',\n",
       " 'creating',\n",
       " 'a',\n",
       " 'nolose',\n",
       " 'opportunity',\n",
       " 'for',\n",
       " 'many',\n",
       " 'of',\n",
       " 'their',\n",
       " 'backers',\n",
       " 'and',\n",
       " 'a',\n",
       " 'much',\n",
       " 'riskier',\n",
       " 'scenario',\n",
       " 'for',\n",
       " 'less',\n",
       " 'sophisticated',\n",
       " 'retail',\n",
       " 'investors',\n",
       " 'who',\n",
       " 'are',\n",
       " 'drawn',\n",
       " 'to',\n",
       " 'the',\n",
       " 'hype',\n",
       " 'and',\n",
       " 'its',\n",
       " 'peers',\n",
       " 'are',\n",
       " 'now',\n",
       " 'bellwethers',\n",
       " 'for',\n",
       " 'those',\n",
       " 'risks',\n",
       " 'says',\n",
       " 'howard',\n",
       " 'schilit',\n",
       " 'author',\n",
       " 'of',\n",
       " 'financial',\n",
       " 'shenanigans',\n",
       " 'and',\n",
       " 'have',\n",
       " 'already',\n",
       " 'gone',\n",
       " 'public',\n",
       " 'through',\n",
       " 'spacs',\n",
       " 'while',\n",
       " 'and',\n",
       " 'are',\n",
       " 'planning',\n",
       " 'listings',\n",
       " 'to',\n",
       " 'do',\n",
       " 'so',\n",
       " 'and',\n",
       " 'it',\n",
       " '’',\n",
       " 's',\n",
       " 'not',\n",
       " 'limited',\n",
       " 'to',\n",
       " 'real',\n",
       " 'estate',\n",
       " 'pwc',\n",
       " 'cited',\n",
       " 'the',\n",
       " 'continued',\n",
       " 'spac',\n",
       " 'attack',\n",
       " 'as',\n",
       " 'the',\n",
       " 'driver',\n",
       " 'behind',\n",
       " 'ipos',\n",
       " 'completed',\n",
       " 'in',\n",
       " 'the',\n",
       " 'first',\n",
       " 'quarter',\n",
       " 'of',\n",
       " 'the',\n",
       " 'year',\n",
       " 'that',\n",
       " 'raised',\n",
       " 'a',\n",
       " 'total',\n",
       " 'of',\n",
       " 'billion',\n",
       " 'there',\n",
       " 'always',\n",
       " 'have',\n",
       " 'been',\n",
       " 'successful',\n",
       " 'spacs',\n",
       " 'despite',\n",
       " 'the',\n",
       " 'fact',\n",
       " 'that',\n",
       " 'on',\n",
       " 'average',\n",
       " 'spacs',\n",
       " 'have',\n",
       " 'never',\n",
       " 'been',\n",
       " 'a',\n",
       " 'good',\n",
       " 'investment',\n",
       " 'for',\n",
       " 'public',\n",
       " 'shareholders',\n",
       " 'says',\n",
       " 'michael',\n",
       " 'klausner',\n",
       " 'the',\n",
       " 'nancy',\n",
       " 'and',\n",
       " 'charles',\n",
       " 'munger',\n",
       " 'professor',\n",
       " 'of',\n",
       " 'business',\n",
       " 'at',\n",
       " 'stanford',\n",
       " 'law',\n",
       " 'school',\n",
       " 'he',\n",
       " 'adds',\n",
       " 'that',\n",
       " 'the',\n",
       " 'spac',\n",
       " 'bubble',\n",
       " 'seems',\n",
       " 'to',\n",
       " 'be',\n",
       " 'deflating',\n",
       " 'one',\n",
       " 'never',\n",
       " 'knows',\n",
       " 'when',\n",
       " 'a',\n",
       " 'bubble',\n",
       " 'will',\n",
       " 'burst',\n",
       " 'or',\n",
       " 'fully',\n",
       " 'deflate',\n",
       " 'but',\n",
       " 'i',\n",
       " 'think',\n",
       " 'a',\n",
       " 'reasonable',\n",
       " 'inference',\n",
       " 'from',\n",
       " 'the',\n",
       " 'market',\n",
       " 'is',\n",
       " 'that',\n",
       " 'the',\n",
       " 'deflation',\n",
       " 'process',\n",
       " 'is',\n",
       " 'happening',\n",
       " 'schoenfelder',\n",
       " 'for',\n",
       " 'his',\n",
       " 'part',\n",
       " 'insists',\n",
       " 'that',\n",
       " 'would',\n",
       " 'have',\n",
       " 'gone',\n",
       " 'public',\n",
       " 'with',\n",
       " 'or',\n",
       " 'without',\n",
       " 'a',\n",
       " 'spac',\n",
       " 'bubble',\n",
       " 'noting',\n",
       " 'the',\n",
       " 'multiple',\n",
       " 'merger',\n",
       " 'offers',\n",
       " 'he',\n",
       " 'fielded',\n",
       " 'if',\n",
       " 'you',\n",
       " 'look',\n",
       " 'at',\n",
       " 'the',\n",
       " 'institutional',\n",
       " 'investors',\n",
       " 'that',\n",
       " 'participated',\n",
       " 'in',\n",
       " 'our',\n",
       " 'transaction',\n",
       " 'he',\n",
       " 'says',\n",
       " 'i',\n",
       " 'think',\n",
       " 'there',\n",
       " 'would',\n",
       " 'have',\n",
       " 'been',\n",
       " 'appetite',\n",
       " 'in',\n",
       " 'lots',\n",
       " 'of',\n",
       " 'different',\n",
       " 'permutations']"
      ]
     },
     "execution_count": 13,
     "metadata": {},
     "output_type": "execute_result"
    }
   ],
   "source": [
    "# divide text into substrings by splitting it into tokens\n",
    "words = word_tokenize(text_clean)\n",
    "\n",
    "words"
   ]
  },
  {
   "cell_type": "markdown",
   "metadata": {},
   "source": [
    "# Remove Stop Words"
   ]
  },
  {
   "cell_type": "code",
   "execution_count": 14,
   "metadata": {
    "scrolled": true
   },
   "outputs": [
    {
     "name": "stdout",
     "output_type": "stream",
     "text": [
      "['i', 'me', 'my', 'myself', 'we', 'our', 'ours', 'ourselves', 'you', \"you're\", \"you've\", \"you'll\", \"you'd\", 'your', 'yours', 'yourself', 'yourselves', 'he', 'him', 'his', 'himself', 'she', \"she's\", 'her', 'hers', 'herself', 'it', \"it's\", 'its', 'itself', 'they', 'them', 'their', 'theirs', 'themselves', 'what', 'which', 'who', 'whom', 'this', 'that', \"that'll\", 'these', 'those', 'am', 'is', 'are', 'was', 'were', 'be', 'been', 'being', 'have', 'has', 'had', 'having', 'do', 'does', 'did', 'doing', 'a', 'an', 'the', 'and', 'but', 'if', 'or', 'because', 'as', 'until', 'while', 'of', 'at', 'by', 'for', 'with', 'about', 'against', 'between', 'into', 'through', 'during', 'before', 'after', 'above', 'below', 'to', 'from', 'up', 'down', 'in', 'out', 'on', 'off', 'over', 'under', 'again', 'further', 'then', 'once', 'here', 'there', 'when', 'where', 'why', 'how', 'all', 'any', 'both', 'each', 'few', 'more', 'most', 'other', 'some', 'such', 'no', 'nor', 'not', 'only', 'own', 'same', 'so', 'than', 'too', 'very', 's', 't', 'can', 'will', 'just', 'don', \"don't\", 'should', \"should've\", 'now', 'd', 'll', 'm', 'o', 're', 've', 'y', 'ain', 'aren', \"aren't\", 'couldn', \"couldn't\", 'didn', \"didn't\", 'doesn', \"doesn't\", 'hadn', \"hadn't\", 'hasn', \"hasn't\", 'haven', \"haven't\", 'isn', \"isn't\", 'ma', 'mightn', \"mightn't\", 'mustn', \"mustn't\", 'needn', \"needn't\", 'shan', \"shan't\", 'shouldn', \"shouldn't\", 'wasn', \"wasn't\", 'weren', \"weren't\", 'won', \"won't\", 'wouldn', \"wouldn't\"]\n"
     ]
    }
   ],
   "source": [
    "# retrieve a list of common words in English that don't carry important meaning\n",
    "stop_words = stopwords.words('english')\n",
    "\n",
    "print(stop_words)\n",
    "\n",
    "# lists of stop words are also provided by other libraries like sklearn.feature_extraction.stop_words and spacy.lang.en.stop_words"
   ]
  },
  {
   "cell_type": "code",
   "execution_count": 15,
   "metadata": {},
   "outputs": [
    {
     "name": "stdout",
     "output_type": "stream",
     "text": [
      "['smartlock', 'maker', 'began', 'trading', 'mondaysmartlock', 'startup', 'began', 'trading', 'monday', 'spac', 'listing', 'raised', 'million', 'values', 'company', 'billion', 'shares', 'issued', 'special', 'purpose', 'acquisition', 'vehicle', 'run', 'rose', 'first', 'day', 'trading', 'using', 'tishman', 'speyer', 'portfolio', 'incubator', 'new', 'ideas', 'new', 'productswas', 'really', 'good', 'pass', 'says', '’', 'cofounder', 'ceo', 'luke', 'schoenfelder', 'made', 'list', 'revenue', 'million', 'last', 'year', 'founded', 'best', 'known', 'smartlocks', 'unlocked', 'smartphone', 'schoenfelder', 'cofounders', 'stumbled', 'concept', 'trying', 'solve', 'simpler', 'problem', 'run', 'orange', 'juice', 'morning', 'fresh', 'carton', 'delivered', 'directly', 'refrigerator', 'end', 'day', '’', 'cfo', 'garth', 'mitchell', 'told', 'earlier', 'year', 'team', 'realized', 'property', 'access', 'first', 'hurdle', 'executing', 'concept', 'soon', 'homed', 'smartlock', 'market', 'targeted', 'residential', 'properties', 'outset', 'since', 'potential', 'scale', 'much', 'higher', 'commercial', 'businesses', 'valued', 'million', 'series', 'b', 'round', 'raised', 'million', 'oneinten', 'new', 'multifamily', 'projects', 'across', 'us', 'utilized', 'technology', 'company', 'says', 'use', 'new', 'funding', 'expand', 'europe', 'grow', 'new', 'business', 'segments', 'commercial', 'space', 'year', 'ago', 'offices', 'shuttered', 'renters', 'fled', 'major', 'cities', 'things', 'looked', 'far', 'grim', 'make', 'tough', 'choices', 'spring', 'bring', 'burn', 'mitchell', 'saysnow', 'rental', 'demand', 'rebounding', 'many', 'urban', 'areas', 'commercial', 'landlords', 'eyeing', 'return', 'workers', 'offices', 'new', 'safety', 'protocols', 'made', 'contactless', 'entry', 'systems', 'appealing', 'launched', 'visitor', 'express', 'contactless', 'system', 'offices', 'early', 'overall', 'says', 'products', 'purchased', 'reserved', 'units', 'across', 'country', 'mainly', 'residential', 'revenue', 'risen', 'million', 'million', 'last', 'year', 'according', 'public', 'filings', 'losses', 'also', 'swelled', 'million', 'million', 'company', 'followed', 'many', 'peers', 'market', 'spac', 'listing', 'allows', 'firms', 'skirt', 'scrutiny', 'traditional', 'initial', 'public', 'offering', 'including', 'wading', 'regulatory', 'requirements', 'conducting', 'roadshows', 'allow', 'potential', 'investors', 'question', 'executives', 'opportunities', 'risks', 'spacs', 'provide', 'faster', 'way', 'market', 'taking', 'publicly', 'traded', 'shell', 'company', 'spac', 'merging', 'target', 'business', 'like', 'investors', 'shell', 'company', 'generally', 'take', 'large', 'fees', 'creating', 'nolose', 'opportunity', 'many', 'backers', 'much', 'riskier', 'scenario', 'less', 'sophisticated', 'retail', 'investors', 'drawn', 'hype', 'peers', 'bellwethers', 'risks', 'says', 'howard', 'schilit', 'author', 'financial', 'shenanigans', 'already', 'gone', 'public', 'spacs', 'planning', 'listings', '’', 'limited', 'real', 'estate', 'pwc', 'cited', 'continued', 'spac', 'attack', 'driver', 'behind', 'ipos', 'completed', 'first', 'quarter', 'year', 'raised', 'total', 'billion', 'always', 'successful', 'spacs', 'despite', 'fact', 'average', 'spacs', 'never', 'good', 'investment', 'public', 'shareholders', 'says', 'michael', 'klausner', 'nancy', 'charles', 'munger', 'professor', 'business', 'stanford', 'law', 'school', 'adds', 'spac', 'bubble', 'seems', 'deflating', 'one', 'never', 'knows', 'bubble', 'burst', 'fully', 'deflate', 'think', 'reasonable', 'inference', 'market', 'deflation', 'process', 'happening', 'schoenfelder', 'part', 'insists', 'would', 'gone', 'public', 'without', 'spac', 'bubble', 'noting', 'multiple', 'merger', 'offers', 'fielded', 'look', 'institutional', 'investors', 'participated', 'transaction', 'says', 'think', 'would', 'appetite', 'lots', 'different', 'permutations']\n"
     ]
    }
   ],
   "source": [
    "# filter out stopwords in words\n",
    "filtered_words = [word for word in words if word not in stop_words]\n",
    "\n",
    "print(filtered_words)"
   ]
  },
  {
   "cell_type": "markdown",
   "metadata": {},
   "source": [
    "# Stemming"
   ]
  },
  {
   "cell_type": "code",
   "execution_count": 16,
   "metadata": {
    "scrolled": true
   },
   "outputs": [
    {
     "name": "stdout",
     "output_type": "stream",
     "text": [
      "['smartlock', 'maker', 'began', 'trade', 'mondaysmartlock', 'startup', 'began', 'trade', 'monday', 'spac', 'list', 'rais', 'million', 'valu', 'compani', 'billion', 'share', 'issu', 'special', 'purpos', 'acquisit', 'vehicl', 'run', 'rose', 'first', 'day', 'trade', 'use', 'tishman', 'speyer', 'portfolio', 'incub', 'new', 'idea', 'new', 'productswa', 'realli', 'good', 'pass', 'say', '’', 'cofound', 'ceo', 'luke', 'schoenfeld', 'made', 'list', 'revenu', 'million', 'last', 'year', 'found', 'best', 'known', 'smartlock', 'unlock', 'smartphon', 'schoenfeld', 'cofound', 'stumbl', 'concept', 'tri', 'solv', 'simpler', 'problem', 'run', 'orang', 'juic', 'morn', 'fresh', 'carton', 'deliv', 'directli', 'refriger', 'end', 'day', '’', 'cfo', 'garth', 'mitchel', 'told', 'earlier', 'year', 'team', 'realiz', 'properti', 'access', 'first', 'hurdl', 'execut', 'concept', 'soon', 'home', 'smartlock', 'market', 'target', 'residenti', 'properti', 'outset', 'sinc', 'potenti', 'scale', 'much', 'higher', 'commerci', 'busi', 'valu', 'million', 'seri', 'b', 'round', 'rais', 'million', 'oneinten', 'new', 'multifamili', 'project', 'across', 'us', 'util', 'technolog', 'compani', 'say', 'use', 'new', 'fund', 'expand', 'europ', 'grow', 'new', 'busi', 'segment', 'commerci', 'space', 'year', 'ago', 'offic', 'shutter', 'renter', 'fled', 'major', 'citi', 'thing', 'look', 'far', 'grim', 'make', 'tough', 'choic', 'spring', 'bring', 'burn', 'mitchel', 'saysnow', 'rental', 'demand', 'rebound', 'mani', 'urban', 'area', 'commerci', 'landlord', 'eye', 'return', 'worker', 'offic', 'new', 'safeti', 'protocol', 'made', 'contactless', 'entri', 'system', 'appeal', 'launch', 'visitor', 'express', 'contactless', 'system', 'offic', 'earli', 'overal', 'say', 'product', 'purchas', 'reserv', 'unit', 'across', 'countri', 'mainli', 'residenti', 'revenu', 'risen', 'million', 'million', 'last', 'year', 'accord', 'public', 'file', 'loss', 'also', 'swell', 'million', 'million', 'compani', 'follow', 'mani', 'peer', 'market', 'spac', 'list', 'allow', 'firm', 'skirt', 'scrutini', 'tradit', 'initi', 'public', 'offer', 'includ', 'wade', 'regulatori', 'requir', 'conduct', 'roadshow', 'allow', 'potenti', 'investor', 'question', 'execut', 'opportun', 'risk', 'spac', 'provid', 'faster', 'way', 'market', 'take', 'publicli', 'trade', 'shell', 'compani', 'spac', 'merg', 'target', 'busi', 'like', 'investor', 'shell', 'compani', 'gener', 'take', 'larg', 'fee', 'creat', 'nolos', 'opportun', 'mani', 'backer', 'much', 'riskier', 'scenario', 'less', 'sophist', 'retail', 'investor', 'drawn', 'hype', 'peer', 'bellweth', 'risk', 'say', 'howard', 'schilit', 'author', 'financi', 'shenanigan', 'alreadi', 'gone', 'public', 'spac', 'plan', 'list', '’', 'limit', 'real', 'estat', 'pwc', 'cite', 'continu', 'spac', 'attack', 'driver', 'behind', 'ipo', 'complet', 'first', 'quarter', 'year', 'rais', 'total', 'billion', 'alway', 'success', 'spac', 'despit', 'fact', 'averag', 'spac', 'never', 'good', 'invest', 'public', 'sharehold', 'say', 'michael', 'klausner', 'nanci', 'charl', 'munger', 'professor', 'busi', 'stanford', 'law', 'school', 'add', 'spac', 'bubbl', 'seem', 'deflat', 'one', 'never', 'know', 'bubbl', 'burst', 'fulli', 'deflat', 'think', 'reason', 'infer', 'market', 'deflat', 'process', 'happen', 'schoenfeld', 'part', 'insist', 'would', 'gone', 'public', 'without', 'spac', 'bubbl', 'note', 'multipl', 'merger', 'offer', 'field', 'look', 'institut', 'investor', 'particip', 'transact', 'say', 'think', 'would', 'appetit', 'lot', 'differ', 'permut']\n"
     ]
    }
   ],
   "source": [
    "# reduce words to their word stem, base or root form\n",
    "# eg: games -> game, played -> play\n",
    "\n",
    "# create PorterStemmer object\n",
    "porter = PorterStemmer()\n",
    "\n",
    "stemmed_porter = [porter.stem(word) for word in filtered_words]\n",
    "\n",
    "print(stemmed_porter)"
   ]
  },
  {
   "cell_type": "code",
   "execution_count": 17,
   "metadata": {},
   "outputs": [
    {
     "name": "stdout",
     "output_type": "stream",
     "text": [
      "['smartlock', 'mak', 'beg', 'trad', 'mondaysmartlock', 'startup', 'beg', 'trad', 'monday', 'spac', 'list', 'rais', 'mil', 'valu', 'company', 'bil', 'shar', 'issu', 'spec', 'purpos', 'acquisit', 'vehic', 'run', 'ros', 'first', 'day', 'trad', 'us', 'tishm', 'spey', 'portfolio', 'incub', 'new', 'idea', 'new', 'productswa', 'real', 'good', 'pass', 'say', '’', 'cofound', 'ceo', 'luk', 'schoenfelder', 'mad', 'list', 'revenu', 'mil', 'last', 'year', 'found', 'best', 'known', 'smartlock', 'unlock', 'smartphon', 'schoenfelder', 'cofound', 'stumbl', 'conceiv', 'try', 'solv', 'simpl', 'problem', 'run', 'orang', 'juic', 'morn', 'fresh', 'carton', 'del', 'direct', 'refrig', 'end', 'day', '’', 'cfo', 'gar', 'mitchel', 'told', 'ear', 'year', 'team', 'real', 'property', 'access', 'first', 'hurdl', 'execut', 'conceiv', 'soon', 'hom', 'smartlock', 'market', 'target', 'resid', 'property', 'outset', 'sint', 'pot', 'scal', 'much', 'high', 'commerc', 'busy', 'valu', 'mil', 'sery', 'b', 'round', 'rais', 'mil', 'oneint', 'new', 'multifamy', 'project', 'across', 'us', 'util', 'technolog', 'company', 'say', 'us', 'new', 'fund', 'expand', 'europ', 'grow', 'new', 'busy', 'seg', 'commerc', 'spac', 'year', 'ago', 'off', 'shut', 'rent', 'fled', 'maj', 'city', 'thing', 'look', 'far', 'grim', 'mak', 'tough', 'cho', 'spring', 'bring', 'burn', 'mitchel', 'saysnow', 'rent', 'demand', 'rebound', 'many', 'urb', 'area', 'commerc', 'landlord', 'ey', 'return', 'work', 'off', 'new', 'saf', 'protocol', 'mad', 'contactless', 'entry', 'system', 'ap', 'launch', 'visit', 'express', 'contactless', 'system', 'off', 'ear', 'overal', 'say', 'produc', 'purchas', 'reserv', 'unit', 'across', 'country', 'main', 'resid', 'revenu', 'ris', 'mil', 'mil', 'last', 'year', 'accord', 'publ', 'fil', 'loss', 'also', 'swel', 'mil', 'mil', 'company', 'follow', 'many', 'peer', 'market', 'spac', 'list', 'allow', 'firm', 'skirt', 'scrutiny', 'tradit', 'init', 'publ', 'off', 'includ', 'wad', 'reg', 'requir', 'conduc', 'roadshow', 'allow', 'pot', 'invest', 'quest', 'execut', 'opportun', 'risk', 'spac', 'provid', 'fast', 'way', 'market', 'tak', 'publ', 'trad', 'shel', 'company', 'spac', 'merg', 'target', 'busy', 'lik', 'invest', 'shel', 'company', 'gen', 'tak', 'larg', 'fee', 'cre', 'nolos', 'opportun', 'many', 'back', 'much', 'risky', 'scenario', 'less', 'soph', 'retail', 'invest', 'drawn', 'hyp', 'peer', 'bellweth', 'risk', 'say', 'howard', 'schilit', 'auth', 'fin', 'shenanig', 'already', 'gon', 'publ', 'spac', 'plan', 'list', '’', 'limit', 'real', 'est', 'pwc', 'cit', 'continu', 'spac', 'attack', 'driv', 'behind', 'ipo', 'complet', 'first', 'quart', 'year', 'rais', 'tot', 'bil', 'alway', 'success', 'spac', 'despit', 'fact', 'av', 'spac', 'nev', 'good', 'invest', 'publ', 'sharehold', 'say', 'michael', 'klausn', 'nant', 'charl', 'mung', 'profess', 'busy', 'stanford', 'law', 'school', 'ad', 'spac', 'bubbl', 'seem', 'defl', 'on', 'nev', 'know', 'bubbl', 'burst', 'ful', 'defl', 'think', 'reason', 'inf', 'market', 'defl', 'process', 'hap', 'schoenfelder', 'part', 'insist', 'would', 'gon', 'publ', 'without', 'spac', 'bubbl', 'not', 'multipl', 'merg', 'off', 'field', 'look', 'institut', 'invest', 'particip', 'transact', 'say', 'think', 'would', 'appetit', 'lot', 'diff', 'permut']\n"
     ]
    }
   ],
   "source": [
    "# or\n",
    "\n",
    "# create LancasterStemmer object\n",
    "lancaster=LancasterStemmer()\n",
    "\n",
    "stemmed_lancaster = [lancaster.stem(word) for word in filtered_words]\n",
    "\n",
    "print(stemmed_lancaster)"
   ]
  },
  {
   "cell_type": "markdown",
   "metadata": {},
   "source": [
    "# Lemmatization"
   ]
  },
  {
   "cell_type": "code",
   "execution_count": 18,
   "metadata": {},
   "outputs": [
    {
     "name": "stdout",
     "output_type": "stream",
     "text": [
      "['smartlock', 'maker', 'began', 'trading', 'mondaysmartlock', 'startup', 'began', 'trading', 'monday', 'spac', 'listing', 'raised', 'million', 'value', 'company', 'billion', 'share', 'issued', 'special', 'purpose', 'acquisition', 'vehicle', 'run', 'rose', 'first', 'day', 'trading', 'using', 'tishman', 'speyer', 'portfolio', 'incubator', 'new', 'idea', 'new', 'productswas', 'really', 'good', 'pas', 'say', '’', 'cofounder', 'ceo', 'luke', 'schoenfelder', 'made', 'list', 'revenue', 'million', 'last', 'year', 'founded', 'best', 'known', 'smartlocks', 'unlocked', 'smartphone', 'schoenfelder', 'cofounder', 'stumbled', 'concept', 'trying', 'solve', 'simpler', 'problem', 'run', 'orange', 'juice', 'morning', 'fresh', 'carton', 'delivered', 'directly', 'refrigerator', 'end', 'day', '’', 'cfo', 'garth', 'mitchell', 'told', 'earlier', 'year', 'team', 'realized', 'property', 'access', 'first', 'hurdle', 'executing', 'concept', 'soon', 'homed', 'smartlock', 'market', 'targeted', 'residential', 'property', 'outset', 'since', 'potential', 'scale', 'much', 'higher', 'commercial', 'business', 'valued', 'million', 'series', 'b', 'round', 'raised', 'million', 'oneinten', 'new', 'multifamily', 'project', 'across', 'u', 'utilized', 'technology', 'company', 'say', 'use', 'new', 'funding', 'expand', 'europe', 'grow', 'new', 'business', 'segment', 'commercial', 'space', 'year', 'ago', 'office', 'shuttered', 'renter', 'fled', 'major', 'city', 'thing', 'looked', 'far', 'grim', 'make', 'tough', 'choice', 'spring', 'bring', 'burn', 'mitchell', 'saysnow', 'rental', 'demand', 'rebounding', 'many', 'urban', 'area', 'commercial', 'landlord', 'eyeing', 'return', 'worker', 'office', 'new', 'safety', 'protocol', 'made', 'contactless', 'entry', 'system', 'appealing', 'launched', 'visitor', 'express', 'contactless', 'system', 'office', 'early', 'overall', 'say', 'product', 'purchased', 'reserved', 'unit', 'across', 'country', 'mainly', 'residential', 'revenue', 'risen', 'million', 'million', 'last', 'year', 'according', 'public', 'filing', 'loss', 'also', 'swelled', 'million', 'million', 'company', 'followed', 'many', 'peer', 'market', 'spac', 'listing', 'allows', 'firm', 'skirt', 'scrutiny', 'traditional', 'initial', 'public', 'offering', 'including', 'wading', 'regulatory', 'requirement', 'conducting', 'roadshows', 'allow', 'potential', 'investor', 'question', 'executive', 'opportunity', 'risk', 'spacs', 'provide', 'faster', 'way', 'market', 'taking', 'publicly', 'traded', 'shell', 'company', 'spac', 'merging', 'target', 'business', 'like', 'investor', 'shell', 'company', 'generally', 'take', 'large', 'fee', 'creating', 'nolose', 'opportunity', 'many', 'backer', 'much', 'riskier', 'scenario', 'le', 'sophisticated', 'retail', 'investor', 'drawn', 'hype', 'peer', 'bellwether', 'risk', 'say', 'howard', 'schilit', 'author', 'financial', 'shenanigan', 'already', 'gone', 'public', 'spacs', 'planning', 'listing', '’', 'limited', 'real', 'estate', 'pwc', 'cited', 'continued', 'spac', 'attack', 'driver', 'behind', 'ipo', 'completed', 'first', 'quarter', 'year', 'raised', 'total', 'billion', 'always', 'successful', 'spacs', 'despite', 'fact', 'average', 'spacs', 'never', 'good', 'investment', 'public', 'shareholder', 'say', 'michael', 'klausner', 'nancy', 'charles', 'munger', 'professor', 'business', 'stanford', 'law', 'school', 'add', 'spac', 'bubble', 'seems', 'deflating', 'one', 'never', 'know', 'bubble', 'burst', 'fully', 'deflate', 'think', 'reasonable', 'inference', 'market', 'deflation', 'process', 'happening', 'schoenfelder', 'part', 'insists', 'would', 'gone', 'public', 'without', 'spac', 'bubble', 'noting', 'multiple', 'merger', 'offer', 'fielded', 'look', 'institutional', 'investor', 'participated', 'transaction', 'say', 'think', 'would', 'appetite', 'lot', 'different', 'permutation']\n"
     ]
    }
   ],
   "source": [
    "# reduces words to the root word belonging to the langauge - an actual word (lemma)\n",
    "# eg: plays, playing, played -> play\n",
    "\n",
    "# create WordNetLemmatizer object\n",
    "wordnet_lemmatizer = WordNetLemmatizer()\n",
    "\n",
    "lemmatized_wordnet = [wordnet_lemmatizer.lemmatize(word) for word in filtered_words]\n",
    "\n",
    "print(lemmatized_wordnet)"
   ]
  },
  {
   "cell_type": "code",
   "execution_count": 19,
   "metadata": {},
   "outputs": [
    {
     "name": "stdout",
     "output_type": "stream",
     "text": [
      "['smartlock', 'maker', 'begin', 'trade', 'mondaysmartlock', 'startup', 'begin', 'trade', 'monday', 'spac', 'list', 'raise', 'million', 'value', 'company', 'billion', 'share', 'issue', 'special', 'purpose', 'acquisition', 'vehicle', 'run', 'rise', 'first', 'day', 'trade', 'use', 'tishman', 'speyer', 'portfolio', 'incubator', 'new', 'ideas', 'new', 'productswas', 'really', 'good', 'pass', 'say', '’', 'cofounder', 'ceo', 'luke', 'schoenfelder', 'make', 'list', 'revenue', 'million', 'last', 'year', 'found', 'best', 'know', 'smartlocks', 'unlock', 'smartphone', 'schoenfelder', 'cofounders', 'stumble', 'concept', 'try', 'solve', 'simpler', 'problem', 'run', 'orange', 'juice', 'morning', 'fresh', 'carton', 'deliver', 'directly', 'refrigerator', 'end', 'day', '’', 'cfo', 'garth', 'mitchell', 'tell', 'earlier', 'year', 'team', 'realize', 'property', 'access', 'first', 'hurdle', 'execute', 'concept', 'soon', 'home', 'smartlock', 'market', 'target', 'residential', 'properties', 'outset', 'since', 'potential', 'scale', 'much', 'higher', 'commercial', 'businesses', 'value', 'million', 'series', 'b', 'round', 'raise', 'million', 'oneinten', 'new', 'multifamily', 'project', 'across', 'us', 'utilize', 'technology', 'company', 'say', 'use', 'new', 'fund', 'expand', 'europe', 'grow', 'new', 'business', 'segment', 'commercial', 'space', 'year', 'ago', 'offices', 'shutter', 'renters', 'flee', 'major', 'cities', 'things', 'look', 'far', 'grim', 'make', 'tough', 'choices', 'spring', 'bring', 'burn', 'mitchell', 'saysnow', 'rental', 'demand', 'rebound', 'many', 'urban', 'areas', 'commercial', 'landlords', 'eye', 'return', 'workers', 'offices', 'new', 'safety', 'protocols', 'make', 'contactless', 'entry', 'systems', 'appeal', 'launch', 'visitor', 'express', 'contactless', 'system', 'offices', 'early', 'overall', 'say', 'products', 'purchase', 'reserve', 'units', 'across', 'country', 'mainly', 'residential', 'revenue', 'rise', 'million', 'million', 'last', 'year', 'accord', 'public', 'file', 'losses', 'also', 'swell', 'million', 'million', 'company', 'follow', 'many', 'peer', 'market', 'spac', 'list', 'allow', 'firm', 'skirt', 'scrutiny', 'traditional', 'initial', 'public', 'offer', 'include', 'wad', 'regulatory', 'requirements', 'conduct', 'roadshows', 'allow', 'potential', 'investors', 'question', 'executives', 'opportunities', 'risk', 'spacs', 'provide', 'faster', 'way', 'market', 'take', 'publicly', 'trade', 'shell', 'company', 'spac', 'merge', 'target', 'business', 'like', 'investors', 'shell', 'company', 'generally', 'take', 'large', 'fee', 'create', 'nolose', 'opportunity', 'many', 'backers', 'much', 'riskier', 'scenario', 'less', 'sophisticate', 'retail', 'investors', 'draw', 'hype', 'peer', 'bellwethers', 'risk', 'say', 'howard', 'schilit', 'author', 'financial', 'shenanigans', 'already', 'go', 'public', 'spacs', 'plan', 'list', '’', 'limit', 'real', 'estate', 'pwc', 'cite', 'continue', 'spac', 'attack', 'driver', 'behind', 'ipos', 'complete', 'first', 'quarter', 'year', 'raise', 'total', 'billion', 'always', 'successful', 'spacs', 'despite', 'fact', 'average', 'spacs', 'never', 'good', 'investment', 'public', 'shareholders', 'say', 'michael', 'klausner', 'nancy', 'charles', 'munger', 'professor', 'business', 'stanford', 'law', 'school', 'add', 'spac', 'bubble', 'seem', 'deflate', 'one', 'never', 'know', 'bubble', 'burst', 'fully', 'deflate', 'think', 'reasonable', 'inference', 'market', 'deflation', 'process', 'happen', 'schoenfelder', 'part', 'insist', 'would', 'go', 'public', 'without', 'spac', 'bubble', 'note', 'multiple', 'merger', 'offer', 'field', 'look', 'institutional', 'investors', 'participate', 'transaction', 'say', 'think', 'would', 'appetite', 'lot', 'different', 'permutations']\n"
     ]
    }
   ],
   "source": [
    "# provide context\n",
    "lemmatized_wordnet = [wordnet_lemmatizer.lemmatize(word, pos=\"v\") for word in filtered_words]\n",
    "\n",
    "print(lemmatized_wordnet)"
   ]
  },
  {
   "cell_type": "markdown",
   "metadata": {},
   "source": [
    "# Part of Speech Tagging (POS)"
   ]
  },
  {
   "cell_type": "code",
   "execution_count": 20,
   "metadata": {
    "scrolled": true
   },
   "outputs": [
    {
     "name": "stdout",
     "output_type": "stream",
     "text": [
      "[[('smartlock', 'NN')], [('maker', 'NN')], [('began', 'VBD')], [('trading', 'NN')], [('mondaysmartlock', 'NN')], [('startup', 'NN')], [('began', 'VBD')], [('trading', 'NN')], [('monday', 'NN')], [('spac', 'NN')], [('listing', 'NN')], [('raised', 'VBN')], [('million', 'CD')], [('values', 'NNS')], [('company', 'NN')], [('billion', 'CD')], [('shares', 'NNS')], [('issued', 'VBN')], [('special', 'JJ')], [('purpose', 'NN')], [('acquisition', 'NN')], [('vehicle', 'NN')], [('run', 'VB')], [('rose', 'VBD')], [('first', 'RB')], [('day', 'NN')], [('trading', 'NN')], [('using', 'VBG')], [('tishman', 'NN')], [('speyer', 'NN')], [('portfolio', 'NN')], [('incubator', 'NN')], [('new', 'JJ')], [('ideas', 'NNS')], [('new', 'JJ')], [('productswas', 'NN')], [('really', 'RB')], [('good', 'JJ')], [('pass', 'NN')], [('says', 'VBZ')], [('’', 'NN')], [('cofounder', 'NN')], [('ceo', 'NN')], [('luke', 'NN')], [('schoenfelder', 'NN')], [('made', 'VBN')], [('list', 'NN')], [('revenue', 'NN')], [('million', 'CD')], [('last', 'JJ')], [('year', 'NN')], [('founded', 'VBN')], [('best', 'JJS')], [('known', 'VBN')], [('smartlocks', 'NNS')], [('unlocked', 'JJ')], [('smartphone', 'NN')], [('schoenfelder', 'NN')], [('cofounders', 'NNS')], [('stumbled', 'VBN')], [('concept', 'NN')], [('trying', 'VBG')], [('solve', 'NN')], [('simpler', 'NN')], [('problem', 'NN')], [('run', 'VB')], [('orange', 'NN')], [('juice', 'NN')], [('morning', 'NN')], [('fresh', 'JJ')], [('carton', 'NN')], [('delivered', 'VBN')], [('directly', 'RB')], [('refrigerator', 'NN')], [('end', 'NN')], [('day', 'NN')], [('’', 'NN')], [('cfo', 'NN')], [('garth', 'NN')], [('mitchell', 'NN')], [('told', 'NN')], [('earlier', 'RBR')], [('year', 'NN')], [('team', 'NN')], [('realized', 'VBN')], [('property', 'NN')], [('access', 'NN')], [('first', 'RB')], [('hurdle', 'NN')], [('executing', 'VBG')], [('concept', 'NN')], [('soon', 'RB')], [('homed', 'VBN')], [('smartlock', 'NN')], [('market', 'NN')], [('targeted', 'VBN')], [('residential', 'JJ')], [('properties', 'NNS')], [('outset', 'NN')], [('since', 'IN')], [('potential', 'JJ')], [('scale', 'NN')], [('much', 'JJ')], [('higher', 'JJR')], [('commercial', 'JJ')], [('businesses', 'NNS')], [('valued', 'VBN')], [('million', 'CD')], [('series', 'NN')], [('b', 'NN')], [('round', 'NN')], [('raised', 'VBN')], [('million', 'CD')], [('oneinten', 'NNS')], [('new', 'JJ')], [('multifamily', 'RB')], [('projects', 'NNS')], [('across', 'IN')], [('us', 'PRP')], [('utilized', 'JJ')], [('technology', 'NN')], [('company', 'NN')], [('says', 'VBZ')], [('use', 'NN')], [('new', 'JJ')], [('funding', 'NN')], [('expand', 'NN')], [('europe', 'NN')], [('grow', 'NN')], [('new', 'JJ')], [('business', 'NN')], [('segments', 'NNS')], [('commercial', 'JJ')], [('space', 'NN')], [('year', 'NN')], [('ago', 'RB')], [('offices', 'NNS')], [('shuttered', 'VBN')], [('renters', 'NNS')], [('fled', 'VBN')], [('major', 'JJ')], [('cities', 'NNS')], [('things', 'NNS')], [('looked', 'VBD')], [('far', 'RB')], [('grim', 'NN')], [('make', 'VB')], [('tough', 'JJ')], [('choices', 'NNS')], [('spring', 'NN')], [('bring', 'NN')], [('burn', 'NN')], [('mitchell', 'NN')], [('saysnow', 'NN')], [('rental', 'NN')], [('demand', 'NN')], [('rebounding', 'VBG')], [('many', 'JJ')], [('urban', 'JJ')], [('areas', 'NNS')], [('commercial', 'JJ')], [('landlords', 'NNS')], [('eyeing', 'VBG')], [('return', 'NN')], [('workers', 'NNS')], [('offices', 'NNS')], [('new', 'JJ')], [('safety', 'NN')], [('protocols', 'NNS')], [('made', 'VBN')], [('contactless', 'NN')], [('entry', 'NN')], [('systems', 'NNS')], [('appealing', 'VBG')], [('launched', 'VBN')], [('visitor', 'NN')], [('express', 'NN')], [('contactless', 'NN')], [('system', 'NN')], [('offices', 'NNS')], [('early', 'RB')], [('overall', 'JJ')], [('says', 'VBZ')], [('products', 'NNS')], [('purchased', 'VBN')], [('reserved', 'VBN')], [('units', 'NNS')], [('across', 'IN')], [('country', 'NN')], [('mainly', 'RB')], [('residential', 'JJ')], [('revenue', 'NN')], [('risen', 'NN')], [('million', 'CD')], [('million', 'CD')], [('last', 'JJ')], [('year', 'NN')], [('according', 'VBG')], [('public', 'NN')], [('filings', 'NNS')], [('losses', 'NNS')], [('also', 'RB')], [('swelled', 'VBD')], [('million', 'CD')], [('million', 'CD')], [('company', 'NN')], [('followed', 'VBD')], [('many', 'JJ')], [('peers', 'NNS')], [('market', 'NN')], [('spac', 'NN')], [('listing', 'NN')], [('allows', 'NNS')], [('firms', 'NNS')], [('skirt', 'NN')], [('scrutiny', 'NN')], [('traditional', 'JJ')], [('initial', 'JJ')], [('public', 'NN')], [('offering', 'NN')], [('including', 'VBG')], [('wading', 'VBG')], [('regulatory', 'JJ')], [('requirements', 'NNS')], [('conducting', 'VBG')], [('roadshows', 'NNS')], [('allow', 'VB')], [('potential', 'JJ')], [('investors', 'NNS')], [('question', 'NN')], [('executives', 'NNS')], [('opportunities', 'NNS')], [('risks', 'NNS')], [('spacs', 'NN')], [('provide', 'NN')], [('faster', 'NN')], [('way', 'NN')], [('market', 'NN')], [('taking', 'VBG')], [('publicly', 'RB')], [('traded', 'VBN')], [('shell', 'NN')], [('company', 'NN')], [('spac', 'NN')], [('merging', 'VBG')], [('target', 'NN')], [('business', 'NN')], [('like', 'IN')], [('investors', 'NNS')], [('shell', 'NN')], [('company', 'NN')], [('generally', 'RB')], [('take', 'VB')], [('large', 'JJ')], [('fees', 'NNS')], [('creating', 'VBG')], [('nolose', 'RB')], [('opportunity', 'NN')], [('many', 'JJ')], [('backers', 'NNS')], [('much', 'JJ')], [('riskier', 'NN')], [('scenario', 'NN')], [('less', 'RBR')], [('sophisticated', 'JJ')], [('retail', 'JJ')], [('investors', 'NNS')], [('drawn', 'NN')], [('hype', 'NN')], [('peers', 'NNS')], [('bellwethers', 'NNS')], [('risks', 'NNS')], [('says', 'VBZ')], [('howard', 'NN')], [('schilit', 'NN')], [('author', 'NN')], [('financial', 'JJ')], [('shenanigans', 'NNS')], [('already', 'RB')], [('gone', 'VBN')], [('public', 'NN')], [('spacs', 'NN')], [('planning', 'NN')], [('listings', 'NNS')], [('’', 'NN')], [('limited', 'JJ')], [('real', 'JJ')], [('estate', 'NN')], [('pwc', 'NN')], [('cited', 'VBN')], [('continued', 'JJ')], [('spac', 'NN')], [('attack', 'NN')], [('driver', 'NN')], [('behind', 'IN')], [('ipos', 'NN')], [('completed', 'VBN')], [('first', 'RB')], [('quarter', 'NN')], [('year', 'NN')], [('raised', 'VBN')], [('total', 'JJ')], [('billion', 'CD')], [('always', 'RB')], [('successful', 'JJ')], [('spacs', 'NN')], [('despite', 'IN')], [('fact', 'NN')], [('average', 'JJ')], [('spacs', 'NN')], [('never', 'RB')], [('good', 'JJ')], [('investment', 'NN')], [('public', 'NN')], [('shareholders', 'NNS')], [('says', 'VBZ')], [('michael', 'NN')], [('klausner', 'NN')], [('nancy', 'NN')], [('charles', 'NNS')], [('munger', 'NN')], [('professor', 'NN')], [('business', 'NN')], [('stanford', 'NN')], [('law', 'NN')], [('school', 'NN')], [('adds', 'VBZ')], [('spac', 'NN')], [('bubble', 'JJ')], [('seems', 'VBZ')], [('deflating', 'VBG')], [('one', 'CD')], [('never', 'RB')], [('knows', 'NNS')], [('bubble', 'JJ')], [('burst', 'NN')], [('fully', 'RB')], [('deflate', 'NN')], [('think', 'NN')], [('reasonable', 'JJ')], [('inference', 'NN')], [('market', 'NN')], [('deflation', 'NN')], [('process', 'NN')], [('happening', 'VBG')], [('schoenfelder', 'NN')], [('part', 'NN')], [('insists', 'NNS')], [('would', 'MD')], [('gone', 'VBN')], [('public', 'NN')], [('without', 'IN')], [('spac', 'NN')], [('bubble', 'JJ')], [('noting', 'VBG')], [('multiple', 'NN')], [('merger', 'NN')], [('offers', 'NNS')], [('fielded', 'VBN')], [('look', 'NN')], [('institutional', 'JJ')], [('investors', 'NNS')], [('participated', 'VBD')], [('transaction', 'NN')], [('says', 'VBZ')], [('think', 'NN')], [('would', 'MD')], [('appetite', 'NN')], [('lots', 'NNS')], [('different', 'JJ')], [('permutations', 'NNS')]]\n"
     ]
    }
   ],
   "source": [
    "# assign parts of speech to each word of a given text\n",
    "# nouns, verbs, adjectives, others\n",
    "from textblob import TextBlob\n",
    "\n",
    "# [wordnet_lemmatizer.lemmatize(word, pos=\"v\") for word in filtered_words]\n",
    "\n",
    "# pos = TextBlob(input_str)\n",
    "pos = [TextBlob(word).tags for word in filtered_words]\n",
    "print(pos)"
   ]
  },
  {
   "cell_type": "code",
   "execution_count": 21,
   "metadata": {},
   "outputs": [],
   "source": [
    "# pre-processing functions\n",
    "def first_steps(text):\n",
    "    \"\"\"Remove company name and unicode codepoint string\"\"\"\n",
    "    text = text.replace(\"Latch\", \"\")\n",
    "    text = text.replace(\"Tishman Speyer Properties\", \"\")\n",
    "    text = text.replace(\"Forbes\", \"\")\n",
    "    text = text.replace(\"Latch’s\", \"\")\n",
    "    text = text.replace(\"Porch\", \"\")\n",
    "    text = text.replace(\"Opendoor\", \"\")\n",
    "    text = text.replace(\"WeWork\", \"\")\n",
    "    text = text.replace(\"Better\", \"\")\n",
    "    text = text.replace(\"Sonder\", \"\")\n",
    "    text = text.replace(\"Offerpad\", \"\")\n",
    "    text = text.replace(\"Fidelity\", \"\")\n",
    "    text = text.replace(\"BlackRock\", \"\")\n",
    "    text = text.replace(\"Wellington\", \"\")\n",
    "    text = text.replace(\"\\xa0\", \" \")\n",
    "    return text\n",
    "\n",
    "def to_lowercase(text):\n",
    "    \"\"\"Convert entire text into lowercase\"\"\"\n",
    "    text = text.lower()\n",
    "    return text\n",
    "                            \n",
    "def remove_punctuations(text):\n",
    "    \"\"\"Remove all punctuations and quotation marks\"\"\"\n",
    "    text = \"\".join([char for char in text if char not in string.punctuation])\n",
    "    text = text.replace(\"“\", \" \")\n",
    "    text = text.replace(\"”\", \" \")\n",
    "    text_clean = \"\".join([char for char in text if not char.isdigit()])\n",
    "    return text\n",
    "                            \n",
    "def remove_numbers(text):\n",
    "    \"\"\"Remove all digits\"\"\"\n",
    "    text = \"\".join([char for char in text if not char.isdigit()])\n",
    "    return text\n",
    "    \n",
    "def tokenize(text):\n",
    "    \"\"\"Tokenize after filtering out stop words\"\"\"\n",
    "    words = word_tokenize(text)\n",
    "    stop_words = stopwords.words('english')\n",
    "    filtered_words = [word for word in words if word not in stop_words]\n",
    "    return filtered_words\n",
    "\n",
    "\n",
    "def stem_and_lemmatize(words_list):\n",
    "    \"\"\"Stem and lemmatize\"\"\"\n",
    "    # stem\n",
    "    #choose algo\n",
    "    porter = PorterStemmer()\n",
    "    lancaster=LancasterStemmer()\n",
    "    \n",
    "    stemmer = porter\n",
    "    # stemmer = lancaster\n",
    "    stemmed = [stemmer.stem(word) for word in words_list]\n",
    "\n",
    "    # lemmatize\n",
    "    wordnet_lemmatizer = WordNetLemmatizer()\n",
    "    lemmatized_verb = [wordnet_lemmatizer.lemmatize(word, pos=\"v\") for word in words_list]\n",
    "\n",
    "    return stemmed, lemmatized_verb\n",
    "\n",
    "\n",
    "def pre_process(text):\n",
    "    text = first_steps(text)\n",
    "    text = to_lowercase(text)\n",
    "    text = remove_punctuations(text)\n",
    "    text = remove_numbers(text)\n",
    "    text_list = tokenize(text)\n",
    "    return text_list"
   ]
  },
  {
   "cell_type": "code",
   "execution_count": 22,
   "metadata": {},
   "outputs": [
    {
     "name": "stdout",
     "output_type": "stream",
     "text": [
      "['smartlock', 'maker', 'began', 'trading', 'mondaysmartlock', 'startup', 'began', 'trading', 'monday', 'spac', 'listing', 'raised', 'million', 'values', 'company', 'billion', 'shares', 'issued', 'special', 'purpose', 'acquisition', 'vehicle', 'run', 'rose', 'first', 'day', 'trading', 'using', 'tishman', 'speyer', 'portfolio', 'incubator', 'new', 'ideas', 'new', 'productswas', 'really', 'good', 'pass', 'says', '’', 'cofounder', 'ceo', 'luke', 'schoenfelder', 'made', 'list', 'revenue', 'million', 'last', 'year', 'founded', 'best', 'known', 'smartlocks', 'unlocked', 'smartphone', 'schoenfelder', 'cofounders', 'stumbled', 'concept', 'trying', 'solve', 'simpler', 'problem', 'run', 'orange', 'juice', 'morning', 'fresh', 'carton', 'delivered', 'directly', 'refrigerator', 'end', 'day', '’', 'cfo', 'garth', 'mitchell', 'told', 'earlier', 'year', 'team', 'realized', 'property', 'access', 'first', 'hurdle', 'executing', 'concept', 'soon', 'homed', 'smartlock', 'market', 'targeted', 'residential', 'properties', 'outset', 'since', 'potential', 'scale', 'much', 'higher', 'commercial', 'businesses', 'valued', 'million', 'series', 'b', 'round', 'raised', 'million', 'oneinten', 'new', 'multifamily', 'projects', 'across', 'us', 'utilized', 'technology', 'company', 'says', 'use', 'new', 'funding', 'expand', 'europe', 'grow', 'new', 'business', 'segments', 'commercial', 'space', 'year', 'ago', 'offices', 'shuttered', 'renters', 'fled', 'major', 'cities', 'things', 'looked', 'far', 'grim', 'make', 'tough', 'choices', 'spring', 'bring', 'burn', 'mitchell', 'saysnow', 'rental', 'demand', 'rebounding', 'many', 'urban', 'areas', 'commercial', 'landlords', 'eyeing', 'return', 'workers', 'offices', 'new', 'safety', 'protocols', 'made', 'contactless', 'entry', 'systems', 'appealing', 'launched', 'visitor', 'express', 'contactless', 'system', 'offices', 'early', 'overall', 'says', 'products', 'purchased', 'reserved', 'units', 'across', 'country', 'mainly', 'residential', 'revenue', 'risen', 'million', 'million', 'last', 'year', 'according', 'public', 'filings', 'losses', 'also', 'swelled', 'million', 'million', 'company', 'followed', 'many', 'peers', 'market', 'spac', 'listing', 'allows', 'firms', 'skirt', 'scrutiny', 'traditional', 'initial', 'public', 'offering', 'including', 'wading', 'regulatory', 'requirements', 'conducting', 'roadshows', 'allow', 'potential', 'investors', 'question', 'executives', 'opportunities', 'risks', 'spacs', 'provide', 'faster', 'way', 'market', 'taking', 'publicly', 'traded', 'shell', 'company', 'spac', 'merging', 'target', 'business', 'like', 'investors', 'shell', 'company', 'generally', 'take', 'large', 'fees', 'creating', 'nolose', 'opportunity', 'many', 'backers', 'much', 'riskier', 'scenario', 'less', 'sophisticated', 'retail', 'investors', 'drawn', 'hype', 'peers', 'bellwethers', 'risks', 'says', 'howard', 'schilit', 'author', 'financial', 'shenanigans', 'already', 'gone', 'public', 'spacs', 'planning', 'listings', '’', 'limited', 'real', 'estate', 'pwc', 'cited', 'continued', 'spac', 'attack', 'driver', 'behind', 'ipos', 'completed', 'first', 'quarter', 'year', 'raised', 'total', 'billion', 'always', 'successful', 'spacs', 'despite', 'fact', 'average', 'spacs', 'never', 'good', 'investment', 'public', 'shareholders', 'says', 'michael', 'klausner', 'nancy', 'charles', 'munger', 'professor', 'business', 'stanford', 'law', 'school', 'adds', 'spac', 'bubble', 'seems', 'deflating', 'one', 'never', 'knows', 'bubble', 'burst', 'fully', 'deflate', 'think', 'reasonable', 'inference', 'market', 'deflation', 'process', 'happening', 'schoenfelder', 'part', 'insists', 'would', 'gone', 'public', 'without', 'spac', 'bubble', 'noting', 'multiple', 'merger', 'offers', 'fielded', 'look', 'institutional', 'investors', 'participated', 'transaction', 'says', 'think', 'would', 'appetite', 'lots', 'different', 'permutations']\n"
     ]
    }
   ],
   "source": [
    "f = open(\"output/Smart-Lock Startup Latch Rides SPAC Frenzy To $1.5 Billion Valuation.txt\", encoding=\"utf8\")\n",
    "text = f.read()\n",
    "text_list = pre_process(text)\n",
    "print(text_list)"
   ]
  },
  {
   "cell_type": "code",
   "execution_count": 26,
   "metadata": {},
   "outputs": [
    {
     "name": "stdout",
     "output_type": "stream",
     "text": [
      "Stemmed text:\n",
      "['smartlock', 'maker', 'began', 'trade', 'mondaysmartlock', 'startup', 'began', 'trade', 'monday', 'spac', 'list', 'rais', 'million', 'valu', 'compani', 'billion', 'share', 'issu', 'special', 'purpos', 'acquisit', 'vehicl', 'run', 'rose', 'first', 'day', 'trade', 'use', 'tishman', 'speyer', 'portfolio', 'incub', 'new', 'idea', 'new', 'productswa', 'realli', 'good', 'pass', 'say', '’', 'cofound', 'ceo', 'luke', 'schoenfeld', 'made', 'list', 'revenu', 'million', 'last', 'year', 'found', 'best', 'known', 'smartlock', 'unlock', 'smartphon', 'schoenfeld', 'cofound', 'stumbl', 'concept', 'tri', 'solv', 'simpler', 'problem', 'run', 'orang', 'juic', 'morn', 'fresh', 'carton', 'deliv', 'directli', 'refriger', 'end', 'day', '’', 'cfo', 'garth', 'mitchel', 'told', 'earlier', 'year', 'team', 'realiz', 'properti', 'access', 'first', 'hurdl', 'execut', 'concept', 'soon', 'home', 'smartlock', 'market', 'target', 'residenti', 'properti', 'outset', 'sinc', 'potenti', 'scale', 'much', 'higher', 'commerci', 'busi', 'valu', 'million', 'seri', 'b', 'round', 'rais', 'million', 'oneinten', 'new', 'multifamili', 'project', 'across', 'us', 'util', 'technolog', 'compani', 'say', 'use', 'new', 'fund', 'expand', 'europ', 'grow', 'new', 'busi', 'segment', 'commerci', 'space', 'year', 'ago', 'offic', 'shutter', 'renter', 'fled', 'major', 'citi', 'thing', 'look', 'far', 'grim', 'make', 'tough', 'choic', 'spring', 'bring', 'burn', 'mitchel', 'saysnow', 'rental', 'demand', 'rebound', 'mani', 'urban', 'area', 'commerci', 'landlord', 'eye', 'return', 'worker', 'offic', 'new', 'safeti', 'protocol', 'made', 'contactless', 'entri', 'system', 'appeal', 'launch', 'visitor', 'express', 'contactless', 'system', 'offic', 'earli', 'overal', 'say', 'product', 'purchas', 'reserv', 'unit', 'across', 'countri', 'mainli', 'residenti', 'revenu', 'risen', 'million', 'million', 'last', 'year', 'accord', 'public', 'file', 'loss', 'also', 'swell', 'million', 'million', 'compani', 'follow', 'mani', 'peer', 'market', 'spac', 'list', 'allow', 'firm', 'skirt', 'scrutini', 'tradit', 'initi', 'public', 'offer', 'includ', 'wade', 'regulatori', 'requir', 'conduct', 'roadshow', 'allow', 'potenti', 'investor', 'question', 'execut', 'opportun', 'risk', 'spac', 'provid', 'faster', 'way', 'market', 'take', 'publicli', 'trade', 'shell', 'compani', 'spac', 'merg', 'target', 'busi', 'like', 'investor', 'shell', 'compani', 'gener', 'take', 'larg', 'fee', 'creat', 'nolos', 'opportun', 'mani', 'backer', 'much', 'riskier', 'scenario', 'less', 'sophist', 'retail', 'investor', 'drawn', 'hype', 'peer', 'bellweth', 'risk', 'say', 'howard', 'schilit', 'author', 'financi', 'shenanigan', 'alreadi', 'gone', 'public', 'spac', 'plan', 'list', '’', 'limit', 'real', 'estat', 'pwc', 'cite', 'continu', 'spac', 'attack', 'driver', 'behind', 'ipo', 'complet', 'first', 'quarter', 'year', 'rais', 'total', 'billion', 'alway', 'success', 'spac', 'despit', 'fact', 'averag', 'spac', 'never', 'good', 'invest', 'public', 'sharehold', 'say', 'michael', 'klausner', 'nanci', 'charl', 'munger', 'professor', 'busi', 'stanford', 'law', 'school', 'add', 'spac', 'bubbl', 'seem', 'deflat', 'one', 'never', 'know', 'bubbl', 'burst', 'fulli', 'deflat', 'think', 'reason', 'infer', 'market', 'deflat', 'process', 'happen', 'schoenfeld', 'part', 'insist', 'would', 'gone', 'public', 'without', 'spac', 'bubbl', 'note', 'multipl', 'merger', 'offer', 'field', 'look', 'institut', 'investor', 'particip', 'transact', 'say', 'think', 'would', 'appetit', 'lot', 'differ', 'permut']\n",
      "\n",
      "\n",
      "Lemmatized text:\n",
      "['smartlock', 'maker', 'begin', 'trade', 'mondaysmartlock', 'startup', 'begin', 'trade', 'monday', 'spac', 'list', 'raise', 'million', 'value', 'company', 'billion', 'share', 'issue', 'special', 'purpose', 'acquisition', 'vehicle', 'run', 'rise', 'first', 'day', 'trade', 'use', 'tishman', 'speyer', 'portfolio', 'incubator', 'new', 'ideas', 'new', 'productswas', 'really', 'good', 'pass', 'say', '’', 'cofounder', 'ceo', 'luke', 'schoenfelder', 'make', 'list', 'revenue', 'million', 'last', 'year', 'found', 'best', 'know', 'smartlocks', 'unlock', 'smartphone', 'schoenfelder', 'cofounders', 'stumble', 'concept', 'try', 'solve', 'simpler', 'problem', 'run', 'orange', 'juice', 'morning', 'fresh', 'carton', 'deliver', 'directly', 'refrigerator', 'end', 'day', '’', 'cfo', 'garth', 'mitchell', 'tell', 'earlier', 'year', 'team', 'realize', 'property', 'access', 'first', 'hurdle', 'execute', 'concept', 'soon', 'home', 'smartlock', 'market', 'target', 'residential', 'properties', 'outset', 'since', 'potential', 'scale', 'much', 'higher', 'commercial', 'businesses', 'value', 'million', 'series', 'b', 'round', 'raise', 'million', 'oneinten', 'new', 'multifamily', 'project', 'across', 'us', 'utilize', 'technology', 'company', 'say', 'use', 'new', 'fund', 'expand', 'europe', 'grow', 'new', 'business', 'segment', 'commercial', 'space', 'year', 'ago', 'offices', 'shutter', 'renters', 'flee', 'major', 'cities', 'things', 'look', 'far', 'grim', 'make', 'tough', 'choices', 'spring', 'bring', 'burn', 'mitchell', 'saysnow', 'rental', 'demand', 'rebound', 'many', 'urban', 'areas', 'commercial', 'landlords', 'eye', 'return', 'workers', 'offices', 'new', 'safety', 'protocols', 'make', 'contactless', 'entry', 'systems', 'appeal', 'launch', 'visitor', 'express', 'contactless', 'system', 'offices', 'early', 'overall', 'say', 'products', 'purchase', 'reserve', 'units', 'across', 'country', 'mainly', 'residential', 'revenue', 'rise', 'million', 'million', 'last', 'year', 'accord', 'public', 'file', 'losses', 'also', 'swell', 'million', 'million', 'company', 'follow', 'many', 'peer', 'market', 'spac', 'list', 'allow', 'firm', 'skirt', 'scrutiny', 'traditional', 'initial', 'public', 'offer', 'include', 'wad', 'regulatory', 'requirements', 'conduct', 'roadshows', 'allow', 'potential', 'investors', 'question', 'executives', 'opportunities', 'risk', 'spacs', 'provide', 'faster', 'way', 'market', 'take', 'publicly', 'trade', 'shell', 'company', 'spac', 'merge', 'target', 'business', 'like', 'investors', 'shell', 'company', 'generally', 'take', 'large', 'fee', 'create', 'nolose', 'opportunity', 'many', 'backers', 'much', 'riskier', 'scenario', 'less', 'sophisticate', 'retail', 'investors', 'draw', 'hype', 'peer', 'bellwethers', 'risk', 'say', 'howard', 'schilit', 'author', 'financial', 'shenanigans', 'already', 'go', 'public', 'spacs', 'plan', 'list', '’', 'limit', 'real', 'estate', 'pwc', 'cite', 'continue', 'spac', 'attack', 'driver', 'behind', 'ipos', 'complete', 'first', 'quarter', 'year', 'raise', 'total', 'billion', 'always', 'successful', 'spacs', 'despite', 'fact', 'average', 'spacs', 'never', 'good', 'investment', 'public', 'shareholders', 'say', 'michael', 'klausner', 'nancy', 'charles', 'munger', 'professor', 'business', 'stanford', 'law', 'school', 'add', 'spac', 'bubble', 'seem', 'deflate', 'one', 'never', 'know', 'bubble', 'burst', 'fully', 'deflate', 'think', 'reasonable', 'inference', 'market', 'deflation', 'process', 'happen', 'schoenfelder', 'part', 'insist', 'would', 'go', 'public', 'without', 'spac', 'bubble', 'note', 'multiple', 'merger', 'offer', 'field', 'look', 'institutional', 'investors', 'participate', 'transaction', 'say', 'think', 'would', 'appetite', 'lot', 'different', 'permutations']\n"
     ]
    }
   ],
   "source": [
    "stemmed, lemmatized_verb = stem_and_lemmatize(text_list)\n",
    "\n",
    "print('Stemmed text:')\n",
    "print(stemmed)\n",
    "print( '\\n')\n",
    "print('Lemmatized text:')\n",
    "print(lemmatized_verb)"
   ]
  },
  {
   "cell_type": "code",
   "execution_count": null,
   "metadata": {},
   "outputs": [],
   "source": []
  }
 ],
 "metadata": {
  "kernelspec": {
   "display_name": "Python 3",
   "language": "python",
   "name": "python3"
  },
  "language_info": {
   "codemirror_mode": {
    "name": "ipython",
    "version": 3
   },
   "file_extension": ".py",
   "mimetype": "text/x-python",
   "name": "python",
   "nbconvert_exporter": "python",
   "pygments_lexer": "ipython3",
   "version": "3.8.5"
  }
 },
 "nbformat": 4,
 "nbformat_minor": 4
}
